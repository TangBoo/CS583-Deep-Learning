{
 "cells": [
  {
   "cell_type": "code",
   "execution_count": 1,
   "metadata": {},
   "outputs": [],
   "source": [
    "import os\n",
    "import pandas as pd\n",
    "import numpy as np\n"
   ]
  },
  {
   "cell_type": "code",
   "execution_count": 23,
   "metadata": {},
   "outputs": [],
   "source": [
    "data_path= \"C:/Users/xiang/Desktop/\"\n",
    "DensNet_csv=f'{data_path}/stage_2_sample_submission_densnet.csv'\n",
    "ResNet_csv=f'{data_path}/stage_2_sample_Resnet2.csv'\n",
    "Dpn_csv=f'{data_path}/stage_2_sample_DPN3.csv'"
   ]
  },
  {
   "cell_type": "code",
   "execution_count": 9,
   "metadata": {},
   "outputs": [
    {
     "ename": "NameError",
     "evalue": "name 'DensNet_csv' is not defined",
     "output_type": "error",
     "traceback": [
      "\u001b[1;31m---------------------------------------------------------------------------\u001b[0m",
      "\u001b[1;31mNameError\u001b[0m                                 Traceback (most recent call last)",
      "\u001b[1;32m<ipython-input-9-c9bfd81811a0>\u001b[0m in \u001b[0;36m<module>\u001b[1;34m\u001b[0m\n\u001b[1;32m----> 1\u001b[1;33m \u001b[0mdensnet_df\u001b[0m\u001b[1;33m=\u001b[0m\u001b[0mpd\u001b[0m\u001b[1;33m.\u001b[0m\u001b[0mread_csv\u001b[0m\u001b[1;33m(\u001b[0m\u001b[0mDensNet_csv\u001b[0m\u001b[1;33m)\u001b[0m\u001b[1;33m\u001b[0m\u001b[1;33m\u001b[0m\u001b[0m\n\u001b[0m\u001b[0;32m      2\u001b[0m \u001b[0mdensnet_df\u001b[0m\u001b[1;33m.\u001b[0m\u001b[0mhead\u001b[0m\u001b[1;33m(\u001b[0m\u001b[1;33m)\u001b[0m\u001b[1;33m\u001b[0m\u001b[1;33m\u001b[0m\u001b[0m\n",
      "\u001b[1;31mNameError\u001b[0m: name 'DensNet_csv' is not defined"
     ]
    }
   ],
   "source": [
    "densnet_df=pd.read_csv(DensNet_csv)\n",
    "densnet_df.head()"
   ]
  },
  {
   "cell_type": "code",
   "execution_count": 10,
   "metadata": {},
   "outputs": [
    {
     "data": {
      "text/html": [
       "<div>\n",
       "<style scoped>\n",
       "    .dataframe tbody tr th:only-of-type {\n",
       "        vertical-align: middle;\n",
       "    }\n",
       "\n",
       "    .dataframe tbody tr th {\n",
       "        vertical-align: top;\n",
       "    }\n",
       "\n",
       "    .dataframe thead th {\n",
       "        text-align: right;\n",
       "    }\n",
       "</style>\n",
       "<table border=\"1\" class=\"dataframe\">\n",
       "  <thead>\n",
       "    <tr style=\"text-align: right;\">\n",
       "      <th></th>\n",
       "      <th>ID</th>\n",
       "      <th>Label</th>\n",
       "    </tr>\n",
       "  </thead>\n",
       "  <tbody>\n",
       "    <tr>\n",
       "      <th>0</th>\n",
       "      <td>ID_000000e27_any</td>\n",
       "      <td>0.709204</td>\n",
       "    </tr>\n",
       "    <tr>\n",
       "      <th>1</th>\n",
       "      <td>ID_000000e27_epidural</td>\n",
       "      <td>0.104036</td>\n",
       "    </tr>\n",
       "    <tr>\n",
       "      <th>2</th>\n",
       "      <td>ID_000000e27_intraparenchymal</td>\n",
       "      <td>0.067867</td>\n",
       "    </tr>\n",
       "    <tr>\n",
       "      <th>3</th>\n",
       "      <td>ID_000000e27_intraventricular</td>\n",
       "      <td>0.008120</td>\n",
       "    </tr>\n",
       "    <tr>\n",
       "      <th>4</th>\n",
       "      <td>ID_000000e27_subarachnoid</td>\n",
       "      <td>0.250185</td>\n",
       "    </tr>\n",
       "  </tbody>\n",
       "</table>\n",
       "</div>"
      ],
      "text/plain": [
       "                              ID     Label\n",
       "0               ID_000000e27_any  0.709204\n",
       "1          ID_000000e27_epidural  0.104036\n",
       "2  ID_000000e27_intraparenchymal  0.067867\n",
       "3  ID_000000e27_intraventricular  0.008120\n",
       "4      ID_000000e27_subarachnoid  0.250185"
      ]
     },
     "execution_count": 10,
     "metadata": {},
     "output_type": "execute_result"
    }
   ],
   "source": [
    "resnet_df=pd.read_csv(ResNet_csv)\n",
    "resnet_df.head()"
   ]
  },
  {
   "cell_type": "code",
   "execution_count": 11,
   "metadata": {},
   "outputs": [
    {
     "data": {
      "text/html": [
       "<div>\n",
       "<style scoped>\n",
       "    .dataframe tbody tr th:only-of-type {\n",
       "        vertical-align: middle;\n",
       "    }\n",
       "\n",
       "    .dataframe tbody tr th {\n",
       "        vertical-align: top;\n",
       "    }\n",
       "\n",
       "    .dataframe thead th {\n",
       "        text-align: right;\n",
       "    }\n",
       "</style>\n",
       "<table border=\"1\" class=\"dataframe\">\n",
       "  <thead>\n",
       "    <tr style=\"text-align: right;\">\n",
       "      <th></th>\n",
       "      <th>ID</th>\n",
       "      <th>Label</th>\n",
       "    </tr>\n",
       "  </thead>\n",
       "  <tbody>\n",
       "    <tr>\n",
       "      <th>0</th>\n",
       "      <td>ID_000000e27_any</td>\n",
       "      <td>0.205432</td>\n",
       "    </tr>\n",
       "    <tr>\n",
       "      <th>1</th>\n",
       "      <td>ID_000000e27_epidural</td>\n",
       "      <td>0.009480</td>\n",
       "    </tr>\n",
       "    <tr>\n",
       "      <th>2</th>\n",
       "      <td>ID_000000e27_intraparenchymal</td>\n",
       "      <td>0.009074</td>\n",
       "    </tr>\n",
       "    <tr>\n",
       "      <th>3</th>\n",
       "      <td>ID_000000e27_intraventricular</td>\n",
       "      <td>0.000196</td>\n",
       "    </tr>\n",
       "    <tr>\n",
       "      <th>4</th>\n",
       "      <td>ID_000000e27_subarachnoid</td>\n",
       "      <td>0.032478</td>\n",
       "    </tr>\n",
       "  </tbody>\n",
       "</table>\n",
       "</div>"
      ],
      "text/plain": [
       "                              ID     Label\n",
       "0               ID_000000e27_any  0.205432\n",
       "1          ID_000000e27_epidural  0.009480\n",
       "2  ID_000000e27_intraparenchymal  0.009074\n",
       "3  ID_000000e27_intraventricular  0.000196\n",
       "4      ID_000000e27_subarachnoid  0.032478"
      ]
     },
     "execution_count": 11,
     "metadata": {},
     "output_type": "execute_result"
    }
   ],
   "source": [
    "dpn_df=pd.read_csv(Dpn_csv)\n",
    "dpn_df.head()"
   ]
  },
  {
   "cell_type": "code",
   "execution_count": 12,
   "metadata": {},
   "outputs": [
    {
     "data": {
      "text/plain": [
       "1.62177"
      ]
     },
     "execution_count": 12,
     "metadata": {},
     "output_type": "execute_result"
    }
   ],
   "source": [
    "# densnet_acc=1.-0.16741\n",
    "resnet_acc=1.-0.21082\n",
    "dpn_acc=1-0.16741\n",
    "sum=resnet_acc+dpn_acc\n",
    "sum"
   ]
  },
  {
   "cell_type": "code",
   "execution_count": 13,
   "metadata": {},
   "outputs": [],
   "source": [
    "resnet_weight=resnet_acc/sum\n"
   ]
  },
  {
   "cell_type": "code",
   "execution_count": 14,
   "metadata": {},
   "outputs": [],
   "source": [
    "dpn_weight=dpn_acc/sum"
   ]
  },
  {
   "cell_type": "code",
   "execution_count": 16,
   "metadata": {},
   "outputs": [
    {
     "data": {
      "text/plain": [
       "array([0.70920354, 0.10403559, 0.06786692, ..., 0.00408572, 0.11234051,\n",
       "       0.15871185])"
      ]
     },
     "execution_count": 16,
     "metadata": {},
     "output_type": "execute_result"
    }
   ],
   "source": [
    "resnet_value=resnet_df['Label'].values\n",
    "resnet_value"
   ]
  },
  {
   "cell_type": "code",
   "execution_count": 17,
   "metadata": {},
   "outputs": [
    {
     "data": {
      "text/plain": [
       "array([0.20543152, 0.00948024, 0.00907397, ..., 0.00265709, 0.14383271,\n",
       "       0.25795913])"
      ]
     },
     "execution_count": 17,
     "metadata": {},
     "output_type": "execute_result"
    }
   ],
   "source": [
    "dpn_value=dpn_df['Label'].values\n",
    "dpn_value"
   ]
  },
  {
   "cell_type": "code",
   "execution_count": 19,
   "metadata": {},
   "outputs": [
    {
     "data": {
      "text/plain": [
       "array([[0.70920354, 0.10403559, 0.06786692, ..., 0.00408572, 0.11234051,\n",
       "        0.15871185],\n",
       "       [0.20543152, 0.00948024, 0.00907397, ..., 0.00265709, 0.14383271,\n",
       "        0.25795913]])"
      ]
     },
     "execution_count": 19,
     "metadata": {},
     "output_type": "execute_result"
    }
   ],
   "source": [
    "merge_value=np.vstack((resnet_value,dpn_value))\n",
    "merge_value"
   ]
  },
  {
   "cell_type": "code",
   "execution_count": 20,
   "metadata": {},
   "outputs": [
    {
     "data": {
      "text/plain": [
       "array([0.45057528, 0.05549243, 0.03768359, ..., 0.00335228, 0.12850809,\n",
       "       0.20966377])"
      ]
     },
     "execution_count": 20,
     "metadata": {},
     "output_type": "execute_result"
    }
   ],
   "source": [
    "merge_result=np.average(merge_value, axis=0, weights=[resnet_weight,dpn_weight])\n",
    "merge_result"
   ]
  },
  {
   "cell_type": "code",
   "execution_count": 24,
   "metadata": {},
   "outputs": [
    {
     "data": {
      "text/plain": [
       "0         0.776680\n",
       "1         0.026066\n",
       "2         0.133951\n",
       "3         0.031580\n",
       "4         0.120550\n",
       "            ...   \n",
       "727387    0.019873\n",
       "727388    0.061920\n",
       "727389    0.005681\n",
       "727390    0.094938\n",
       "727391    0.443809\n",
       "Name: Label, Length: 727392, dtype: float64"
      ]
     },
     "execution_count": 24,
     "metadata": {},
     "output_type": "execute_result"
    }
   ],
   "source": [
    "densnet_df=pd.read_csv(DensNet_csv)\n",
    "densnet_df['Label']"
   ]
  },
  {
   "cell_type": "code",
   "execution_count": 25,
   "metadata": {},
   "outputs": [
    {
     "data": {
      "text/html": [
       "<div>\n",
       "<style scoped>\n",
       "    .dataframe tbody tr th:only-of-type {\n",
       "        vertical-align: middle;\n",
       "    }\n",
       "\n",
       "    .dataframe tbody tr th {\n",
       "        vertical-align: top;\n",
       "    }\n",
       "\n",
       "    .dataframe thead th {\n",
       "        text-align: right;\n",
       "    }\n",
       "</style>\n",
       "<table border=\"1\" class=\"dataframe\">\n",
       "  <thead>\n",
       "    <tr style=\"text-align: right;\">\n",
       "      <th></th>\n",
       "      <th>ID</th>\n",
       "      <th>Label</th>\n",
       "    </tr>\n",
       "  </thead>\n",
       "  <tbody>\n",
       "    <tr>\n",
       "      <th>0</th>\n",
       "      <td>ID_000000e27_any</td>\n",
       "      <td>0.776680</td>\n",
       "    </tr>\n",
       "    <tr>\n",
       "      <th>1</th>\n",
       "      <td>ID_000000e27_epidural</td>\n",
       "      <td>0.026066</td>\n",
       "    </tr>\n",
       "    <tr>\n",
       "      <th>2</th>\n",
       "      <td>ID_000000e27_intraparenchymal</td>\n",
       "      <td>0.133951</td>\n",
       "    </tr>\n",
       "    <tr>\n",
       "      <th>3</th>\n",
       "      <td>ID_000000e27_intraventricular</td>\n",
       "      <td>0.031580</td>\n",
       "    </tr>\n",
       "    <tr>\n",
       "      <th>4</th>\n",
       "      <td>ID_000000e27_subarachnoid</td>\n",
       "      <td>0.120550</td>\n",
       "    </tr>\n",
       "  </tbody>\n",
       "</table>\n",
       "</div>"
      ],
      "text/plain": [
       "                              ID     Label\n",
       "0               ID_000000e27_any  0.776680\n",
       "1          ID_000000e27_epidural  0.026066\n",
       "2  ID_000000e27_intraparenchymal  0.133951\n",
       "3  ID_000000e27_intraventricular  0.031580\n",
       "4      ID_000000e27_subarachnoid  0.120550"
      ]
     },
     "execution_count": 25,
     "metadata": {},
     "output_type": "execute_result"
    }
   ],
   "source": [
    "np.shape(merge_result)\n",
    "densnet_df.head()"
   ]
  },
  {
   "cell_type": "code",
   "execution_count": 26,
   "metadata": {},
   "outputs": [],
   "source": [
    "\n",
    "from pandas import Series\n",
    "densnet_df['Label']=Series(merge_result)"
   ]
  },
  {
   "cell_type": "code",
   "execution_count": 27,
   "metadata": {},
   "outputs": [
    {
     "data": {
      "text/html": [
       "<div>\n",
       "<style scoped>\n",
       "    .dataframe tbody tr th:only-of-type {\n",
       "        vertical-align: middle;\n",
       "    }\n",
       "\n",
       "    .dataframe tbody tr th {\n",
       "        vertical-align: top;\n",
       "    }\n",
       "\n",
       "    .dataframe thead th {\n",
       "        text-align: right;\n",
       "    }\n",
       "</style>\n",
       "<table border=\"1\" class=\"dataframe\">\n",
       "  <thead>\n",
       "    <tr style=\"text-align: right;\">\n",
       "      <th></th>\n",
       "      <th>ID</th>\n",
       "      <th>Label</th>\n",
       "    </tr>\n",
       "  </thead>\n",
       "  <tbody>\n",
       "    <tr>\n",
       "      <th>0</th>\n",
       "      <td>ID_000000e27_any</td>\n",
       "      <td>4.505753e-01</td>\n",
       "    </tr>\n",
       "    <tr>\n",
       "      <th>1</th>\n",
       "      <td>ID_000000e27_epidural</td>\n",
       "      <td>5.549243e-02</td>\n",
       "    </tr>\n",
       "    <tr>\n",
       "      <th>2</th>\n",
       "      <td>ID_000000e27_intraparenchymal</td>\n",
       "      <td>3.768359e-02</td>\n",
       "    </tr>\n",
       "    <tr>\n",
       "      <th>3</th>\n",
       "      <td>ID_000000e27_intraventricular</td>\n",
       "      <td>4.052051e-03</td>\n",
       "    </tr>\n",
       "    <tr>\n",
       "      <th>4</th>\n",
       "      <td>ID_000000e27_subarachnoid</td>\n",
       "      <td>1.384175e-01</td>\n",
       "    </tr>\n",
       "    <tr>\n",
       "      <th>5</th>\n",
       "      <td>ID_000000e27_subdural</td>\n",
       "      <td>2.503918e-01</td>\n",
       "    </tr>\n",
       "    <tr>\n",
       "      <th>6</th>\n",
       "      <td>ID_000009146_any</td>\n",
       "      <td>1.013235e-03</td>\n",
       "    </tr>\n",
       "    <tr>\n",
       "      <th>7</th>\n",
       "      <td>ID_000009146_epidural</td>\n",
       "      <td>4.824212e-07</td>\n",
       "    </tr>\n",
       "    <tr>\n",
       "      <th>8</th>\n",
       "      <td>ID_000009146_intraparenchymal</td>\n",
       "      <td>1.068606e-05</td>\n",
       "    </tr>\n",
       "    <tr>\n",
       "      <th>9</th>\n",
       "      <td>ID_000009146_intraventricular</td>\n",
       "      <td>6.467328e-07</td>\n",
       "    </tr>\n",
       "    <tr>\n",
       "      <th>10</th>\n",
       "      <td>ID_000009146_subarachnoid</td>\n",
       "      <td>4.173368e-04</td>\n",
       "    </tr>\n",
       "    <tr>\n",
       "      <th>11</th>\n",
       "      <td>ID_000009146_subdural</td>\n",
       "      <td>2.736665e-04</td>\n",
       "    </tr>\n",
       "    <tr>\n",
       "      <th>12</th>\n",
       "      <td>ID_00007b8cb_any</td>\n",
       "      <td>6.830614e-02</td>\n",
       "    </tr>\n",
       "    <tr>\n",
       "      <th>13</th>\n",
       "      <td>ID_00007b8cb_epidural</td>\n",
       "      <td>1.927903e-03</td>\n",
       "    </tr>\n",
       "    <tr>\n",
       "      <th>14</th>\n",
       "      <td>ID_00007b8cb_intraparenchymal</td>\n",
       "      <td>9.833680e-03</td>\n",
       "    </tr>\n",
       "    <tr>\n",
       "      <th>15</th>\n",
       "      <td>ID_00007b8cb_intraventricular</td>\n",
       "      <td>6.172852e-03</td>\n",
       "    </tr>\n",
       "    <tr>\n",
       "      <th>16</th>\n",
       "      <td>ID_00007b8cb_subarachnoid</td>\n",
       "      <td>4.147893e-02</td>\n",
       "    </tr>\n",
       "    <tr>\n",
       "      <th>17</th>\n",
       "      <td>ID_00007b8cb_subdural</td>\n",
       "      <td>1.796419e-02</td>\n",
       "    </tr>\n",
       "    <tr>\n",
       "      <th>18</th>\n",
       "      <td>ID_000134952_any</td>\n",
       "      <td>5.826243e-02</td>\n",
       "    </tr>\n",
       "    <tr>\n",
       "      <th>19</th>\n",
       "      <td>ID_000134952_epidural</td>\n",
       "      <td>5.040108e-03</td>\n",
       "    </tr>\n",
       "  </tbody>\n",
       "</table>\n",
       "</div>"
      ],
      "text/plain": [
       "                               ID         Label\n",
       "0                ID_000000e27_any  4.505753e-01\n",
       "1           ID_000000e27_epidural  5.549243e-02\n",
       "2   ID_000000e27_intraparenchymal  3.768359e-02\n",
       "3   ID_000000e27_intraventricular  4.052051e-03\n",
       "4       ID_000000e27_subarachnoid  1.384175e-01\n",
       "5           ID_000000e27_subdural  2.503918e-01\n",
       "6                ID_000009146_any  1.013235e-03\n",
       "7           ID_000009146_epidural  4.824212e-07\n",
       "8   ID_000009146_intraparenchymal  1.068606e-05\n",
       "9   ID_000009146_intraventricular  6.467328e-07\n",
       "10      ID_000009146_subarachnoid  4.173368e-04\n",
       "11          ID_000009146_subdural  2.736665e-04\n",
       "12               ID_00007b8cb_any  6.830614e-02\n",
       "13          ID_00007b8cb_epidural  1.927903e-03\n",
       "14  ID_00007b8cb_intraparenchymal  9.833680e-03\n",
       "15  ID_00007b8cb_intraventricular  6.172852e-03\n",
       "16      ID_00007b8cb_subarachnoid  4.147893e-02\n",
       "17          ID_00007b8cb_subdural  1.796419e-02\n",
       "18               ID_000134952_any  5.826243e-02\n",
       "19          ID_000134952_epidural  5.040108e-03"
      ]
     },
     "execution_count": 27,
     "metadata": {},
     "output_type": "execute_result"
    }
   ],
   "source": [
    "densnet_df.head(20)"
   ]
  },
  {
   "cell_type": "code",
   "execution_count": 28,
   "metadata": {},
   "outputs": [],
   "source": [
    "densnet_df.to_csv('stage_2_sample_submission_merge2.csv', index=False)\n"
   ]
  },
  {
   "cell_type": "code",
   "execution_count": null,
   "metadata": {},
   "outputs": [],
   "source": []
  }
 ],
 "metadata": {
  "kernelspec": {
   "display_name": "Python 3",
   "language": "python",
   "name": "python3"
  },
  "language_info": {
   "codemirror_mode": {
    "name": "ipython",
    "version": 3
   },
   "file_extension": ".py",
   "mimetype": "text/x-python",
   "name": "python",
   "nbconvert_exporter": "python",
   "pygments_lexer": "ipython3",
   "version": "3.6.9"
  }
 },
 "nbformat": 4,
 "nbformat_minor": 2
}
